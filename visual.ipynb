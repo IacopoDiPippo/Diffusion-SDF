{
 "cells": [
  {
   "cell_type": "code",
   "execution_count": null,
   "id": "073422e0",
   "metadata": {
    "vscode": {
     "languageId": "plaintext"
    }
   },
   "outputs": [],
   "source": [
    "import os\n",
    "import trimesh\n",
    "from IPython.display import display\n",
    "import ipywidgets as widgets\n",
    "\n",
    "# Path to recon directory\n",
    "recon_dir = 'config/stage1_sdf/recon'\n",
    "\n",
    "# Get all reconstructed .ply file paths (only 3 assumed here)\n",
    "mesh_paths = []\n",
    "for root, _, files in os.walk(recon_dir):\n",
    "    for f in files:\n",
    "        if f.endswith('.ply') and f.startswith('reconstruct'):\n",
    "            mesh_paths.append(os.path.join(root, f))\n",
    "\n",
    "# Sort for consistent order\n",
    "mesh_paths = sorted(mesh_paths)[:3]  # only take the first 3\n",
    "\n",
    "# Load and visualize\n",
    "for path in mesh_paths:\n",
    "    mesh = trimesh.load(path)\n",
    "    print(f\"Displaying: {path}\")\n",
    "    display(mesh.show())\n"
   ]
  }
 ],
 "metadata": {
  "language_info": {
   "name": "python"
  }
 },
 "nbformat": 4,
 "nbformat_minor": 5
}
